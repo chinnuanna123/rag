{
 "cells": [
  {
   "cell_type": "code",
   "execution_count": 3,
   "metadata": {},
   "outputs": [
    {
     "data": {
      "text/plain": [
       "True"
      ]
     },
     "execution_count": 3,
     "metadata": {},
     "output_type": "execute_result"
    }
   ],
   "source": [
    "import os\n",
    "from dotenv import load_dotenv\n",
    "load_dotenv()"
   ]
  },
  {
   "cell_type": "code",
   "execution_count": 5,
   "metadata": {},
   "outputs": [],
   "source": [
    "os.environ['OPENAI_API_KEY']=os.getenv(\"openai.api_key\")"
   ]
  },
  {
   "cell_type": "code",
   "execution_count": 9,
   "metadata": {},
   "outputs": [],
   "source": [
    "from llama_index.core import VectorStoreIndex, SimpleDirectoryReader\n",
    "documents = SimpleDirectoryReader(\"data\").load_data()\n"
   ]
  },
  {
   "cell_type": "code",
   "execution_count": 10,
   "metadata": {},
   "outputs": [],
   "source": [
    "index = VectorStoreIndex.from_documents(documents)"
   ]
  },
  {
   "cell_type": "code",
   "execution_count": 11,
   "metadata": {},
   "outputs": [],
   "source": [
    "query_engine = index.as_query_engine()"
   ]
  },
  {
   "cell_type": "code",
   "execution_count": 13,
   "metadata": {},
   "outputs": [
    {
     "data": {
      "text/plain": [
       "<llama_index.core.query_engine.retriever_query_engine.RetrieverQueryEngine at 0x22637e62660>"
      ]
     },
     "execution_count": 13,
     "metadata": {},
     "output_type": "execute_result"
    }
   ],
   "source": [
    "query_engine"
   ]
  },
  {
   "cell_type": "code",
   "execution_count": 14,
   "metadata": {},
   "outputs": [],
   "source": [
    "response=query_engine.query(\"The Best Way to start new habbit\")"
   ]
  },
  {
   "cell_type": "code",
   "execution_count": 16,
   "metadata": {},
   "outputs": [
    {
     "name": "stdout",
     "output_type": "stream",
     "text": [
      "Formulating a specific plan in advance about when and where to act, known as an implementation intention, has been shown to be highly effective in establishing new habits. This approach significantly increases the likelihood of engaging in the desired behavior compared to simply tracking the activity or receiving motivational information. By setting clear intentions on when and where to perform the habit, individuals can leverage cues such as time and location to reinforce the behavior they aim to adopt.\n"
     ]
    }
   ],
   "source": [
    "\n",
    "print (response)"
   ]
  },
  {
   "cell_type": "markdown",
   "metadata": {},
   "source": [
    "#For better result we can use library called pprint.response"
   ]
  },
  {
   "cell_type": "code",
   "execution_count": 18,
   "metadata": {},
   "outputs": [
    {
     "name": "stdout",
     "output_type": "stream",
     "text": [
      "Final Response: Formulating a specific plan in advance about when and\n",
      "where to act, known as an implementation intention, has been shown to\n",
      "be highly effective in establishing new habits. This approach\n",
      "significantly increases the likelihood of engaging in the desired\n",
      "behavior compared to simply tracking the activity or receiving\n",
      "motivational information. By setting clear intentions on when and\n",
      "where to perform the habit, individuals can leverage cues such as time\n",
      "and location to reinforce the behavior they aim to adopt.\n",
      "______________________________________________________________________\n",
      "Source Node 1/2\n",
      "Node ID: 502a893d-c6e2-46bb-bf00-0b6a3ec45af6\n",
      "Similarity: 0.8526209962700717\n",
      "Text: 5 The     Best    Way     to      Start   a       New     Habit\n",
      "I N       2001 ,        RESEARCHERS      in      Great   Britain began\n",
      "working with    248     people  to      build   better exercise\n",
      "habits  over    the     course  of      two     weeks.  The\n",
      "subjects        were    divided into three   groups. The     first\n",
      "group   was     the     control group.  They    were    simply  asked\n",
      "to      track   how often   they    exercised. The     second  group\n",
      "was     the     “motivatio...\n",
      "______________________________________________________________________\n",
      "Source Node 2/2\n",
      "Node ID: fbc21feb-b423-4e78-9253-93bea0d98dfb\n",
      "Similarity: 0.8512371826246248\n",
      "Text: journaling        habit   by      specifically    writing  less\n",
      "than    he      felt    like.    He      always  stopped journaling\n",
      "before  it      seemed  like    a       hassle. Ernest  Hemingway\n",
      "believed        in      similar advice  for     any     kind    of\n",
      "writing.        “The    best    way     is      to      always  stop\n",
      "when    you     are going   good,”  he      said. Strategies      like\n",
      "this    work    for     another reason, too:    they    reinforce\n",
      "the     identity you...\n",
      "Formulating a specific plan in advance about when and where to act, known as an implementation intention, has been shown to be highly effective in establishing new habits. This approach significantly increases the likelihood of engaging in the desired behavior compared to simply tracking the activity or receiving motivational information. By setting clear intentions on when and where to perform the habit, individuals can leverage cues such as time and location to reinforce the behavior they aim to adopt.\n"
     ]
    }
   ],
   "source": [
    "from llama_index.core.response.pprint_utils import pprint_response\n",
    "pprint_response(response,show_source=True)\n",
    "print(response)\n"
   ]
  }
 ],
 "metadata": {
  "kernelspec": {
   "display_name": "venv",
   "language": "python",
   "name": "python3"
  },
  "language_info": {
   "codemirror_mode": {
    "name": "ipython",
    "version": 3
   },
   "file_extension": ".py",
   "mimetype": "text/x-python",
   "name": "python",
   "nbconvert_exporter": "python",
   "pygments_lexer": "ipython3",
   "version": "3.13.1"
  }
 },
 "nbformat": 4,
 "nbformat_minor": 2
}
